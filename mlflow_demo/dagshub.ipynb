{
 "cells": [
  {
   "cell_type": "code",
   "execution_count": 3,
   "id": "cf6d25fb",
   "metadata": {},
   "outputs": [],
   "source": [
    "import pandas as pd\n",
    "import numpy as np\n",
    "from sklearn.model_selection import train_test_split\n",
    "from sklearn.linear_model import LogisticRegression\n",
    "from sklearn.ensemble import RandomForestClassifier\n",
    "from sklearn.svm import SVC\n",
    "import xgboost as xgb\n",
    "from sklearn.metrics import classification_report\n",
    "import pickle\n",
    "import mlflow\n",
    "import dagshub"
   ]
  },
  {
   "cell_type": "code",
   "execution_count": 5,
   "id": "e7587a45",
   "metadata": {},
   "outputs": [],
   "source": [
    "# Load and prepare data\n",
    "df = pd.read_csv(r'C:\\Users\\dell\\Downloads\\diabetes.csv')\n",
    "#df = pd.read_csv(data)\n",
    "X = df.drop('Outcome', axis=1)\n",
    "y = df.Outcome"
   ]
  },
  {
   "cell_type": "code",
   "execution_count": 6,
   "id": "fedc5bc9",
   "metadata": {},
   "outputs": [],
   "source": [
    "# Split data\n",
    "X_train, X_test, y_train, y_test = train_test_split(X, y, test_size=0.20, random_state=10)"
   ]
  },
  {
   "cell_type": "code",
   "execution_count": 8,
   "id": "2d3076e4",
   "metadata": {},
   "outputs": [],
   "source": [
    "# Handle missing values\n",
    "from sklearn.impute import SimpleImputer\n",
    "fill = SimpleImputer(missing_values=0, strategy=\"mean\")\n",
    "X_train = fill.fit_transform(X_train)\n",
    "X_test = fill.transform(X_test)"
   ]
  },
  {
   "cell_type": "code",
   "execution_count": 10,
   "id": "5feaaf21",
   "metadata": {},
   "outputs": [
    {
     "data": {
      "text/html": [
       "<pre style=\"white-space:pre;overflow-x:auto;line-height:normal;font-family:Menlo,'DejaVu Sans Mono',consolas,'Courier New',monospace\">Initialized MLflow to track repo <span style=\"color: #008000; text-decoration-color: #008000\">\"raguram99/mlops_projects\"</span>\n",
       "</pre>\n"
      ],
      "text/plain": [
       "Initialized MLflow to track repo \u001b[32m\"raguram99/mlops_projects\"\u001b[0m\n"
      ]
     },
     "metadata": {},
     "output_type": "display_data"
    },
    {
     "data": {
      "text/html": [
       "<pre style=\"white-space:pre;overflow-x:auto;line-height:normal;font-family:Menlo,'DejaVu Sans Mono',consolas,'Courier New',monospace\">Repository raguram99/mlops_projects initialized!\n",
       "</pre>\n"
      ],
      "text/plain": [
       "Repository raguram99/mlops_projects initialized!\n"
      ]
     },
     "metadata": {},
     "output_type": "display_data"
    }
   ],
   "source": [
    "# Initialize DagsHub\n",
    "dagshub.init(repo_owner='raguram99', repo_name='mlops_projects', mlflow=True)"
   ]
  },
  {
   "cell_type": "code",
   "execution_count": 12,
   "id": "a8d5bdb5",
   "metadata": {},
   "outputs": [],
   "source": [
    "# Define models and their parameters\n",
    "models = {\n",
    "    'logistic_regression': {\n",
    "        'model': LogisticRegression(),\n",
    "        'params': {\n",
    "            \"solver\": \"lbfgs\",\n",
    "            \"max_iter\": 45,\n",
    "            \"multi_class\": \"auto\",\n",
    "            \"random_state\": 123\n",
    "        }\n",
    "    },\n",
    "    'random_forest': {\n",
    "        'model': RandomForestClassifier(),\n",
    "        'params': {\n",
    "            'n_estimators': 100,\n",
    "            'max_depth': 10,\n",
    "            'random_state': 123\n",
    "        }\n",
    "    },\n",
    "    'xgboost': {\n",
    "        'model': xgb.XGBClassifier(),\n",
    "        'params': {\n",
    "            'n_estimators': 100,\n",
    "            'max_depth': 3,\n",
    "            'learning_rate': 0.1,\n",
    "            'random_state': 123\n",
    "        }\n",
    "    },\n",
    "    'svm': {\n",
    "        'model': SVC(),\n",
    "        'params': {\n",
    "            'kernel': 'rbf',\n",
    "            'C': 1.0,\n",
    "            'random_state': 123\n",
    "        }\n",
    "    }\n",
    "}\n"
   ]
  },
  {
   "cell_type": "code",
   "execution_count": 13,
   "id": "46c16543",
   "metadata": {},
   "outputs": [
    {
     "name": "stderr",
     "output_type": "stream",
     "text": [
      "2025/09/14 14:52:40 INFO mlflow.tracking.fluent: Experiment with name 'Multi_Classifier_Diabetes_Experiment' does not exist. Creating a new experiment.\n"
     ]
    },
    {
     "name": "stdout",
     "output_type": "stream",
     "text": [
      "\n",
      "Training logistic_regression...\n"
     ]
    },
    {
     "name": "stderr",
     "output_type": "stream",
     "text": [
      "c:\\Users\\Dell\\AppData\\Local\\Programs\\Python\\Python310\\lib\\site-packages\\sklearn\\linear_model\\_logistic.py:1272: FutureWarning: 'multi_class' was deprecated in version 1.5 and will be removed in 1.8. From then on, it will always use 'multinomial'. Leave it to its default value to avoid this warning.\n",
      "  warnings.warn(\n",
      "c:\\Users\\Dell\\AppData\\Local\\Programs\\Python\\Python310\\lib\\site-packages\\sklearn\\linear_model\\_logistic.py:473: ConvergenceWarning: lbfgs failed to converge after 45 iteration(s) (status=1):\n",
      "STOP: TOTAL NO. OF ITERATIONS REACHED LIMIT\n",
      "\n",
      "Increase the number of iterations to improve the convergence (max_iter=45).\n",
      "You might also want to scale the data as shown in:\n",
      "    https://scikit-learn.org/stable/modules/preprocessing.html\n",
      "Please also refer to the documentation for alternative solver options:\n",
      "    https://scikit-learn.org/stable/modules/linear_model.html#logistic-regression\n",
      "  n_iter_i = _check_optimize_result(\n"
     ]
    },
    {
     "name": "stdout",
     "output_type": "stream",
     "text": [
      "logistic_regression Results:\n",
      "Accuracy: 0.6623\n",
      "F1 Score (macro): 0.5970\n",
      "🏃 View run logistic_regression at: https://dagshub.com/raguram99/mlops_projects.mlflow/#/experiments/0/runs/a425b05f1549488e802a2e97e4ec10e7\n",
      "🧪 View experiment at: https://dagshub.com/raguram99/mlops_projects.mlflow/#/experiments/0\n",
      "\n",
      "Training random_forest...\n",
      "random_forest Results:\n",
      "Accuracy: 0.7208\n",
      "F1 Score (macro): 0.6893\n",
      "🏃 View run random_forest at: https://dagshub.com/raguram99/mlops_projects.mlflow/#/experiments/0/runs/ef35f5c6836145d1a8d78d3843031258\n",
      "🧪 View experiment at: https://dagshub.com/raguram99/mlops_projects.mlflow/#/experiments/0\n",
      "\n",
      "Training xgboost...\n",
      "xgboost Results:\n",
      "Accuracy: 0.7403\n",
      "F1 Score (macro): 0.7172\n",
      "🏃 View run xgboost at: https://dagshub.com/raguram99/mlops_projects.mlflow/#/experiments/0/runs/40706ad115ca477f8d386db487627285\n",
      "🧪 View experiment at: https://dagshub.com/raguram99/mlops_projects.mlflow/#/experiments/0\n",
      "\n",
      "Training svm...\n",
      "svm Results:\n",
      "Accuracy: 0.7013\n",
      "F1 Score (macro): 0.6435\n",
      "🏃 View run svm at: https://dagshub.com/raguram99/mlops_projects.mlflow/#/experiments/0/runs/b97a564c29b541bfac3f66063ef545c0\n",
      "🧪 View experiment at: https://dagshub.com/raguram99/mlops_projects.mlflow/#/experiments/0\n",
      "\n",
      "All models have been trained and logged to MLflow\n"
     ]
    }
   ],
   "source": [
    "# Train and log each model\n",
    "mlflow.set_experiment(\"Multi_Classifier_Diabetes_Experiment\")\n",
    "\n",
    "for model_name, model_info in models.items():\n",
    "    print(f\"\\nTraining {model_name}...\")\n",
    "    \n",
    "    with mlflow.start_run(run_name=model_name):\n",
    "        # Set tags\n",
    "        mlflow.set_tag(\"author\", \"AJ\")\n",
    "        mlflow.set_tag(\"model_type\", model_name)\n",
    "        \n",
    "        # Train model\n",
    "        model = model_info['model']\n",
    "        model.set_params(**model_info['params'])\n",
    "        model.fit(X_train, y_train)\n",
    "        \n",
    "        # Make predictions\n",
    "        y_pred = model.predict(X_test)\n",
    "        \n",
    "        # Get metrics\n",
    "        report_dict = classification_report(y_test, y_pred, output_dict=True)\n",
    "        \n",
    "        # Log parameters\n",
    "        mlflow.log_params(model_info['params'])\n",
    "        \n",
    "        # Log metrics\n",
    "        metrics = {\n",
    "            'accuracy': report_dict['accuracy'],\n",
    "            'recall_class_0': report_dict['0']['recall'],\n",
    "            'recall_class_1': report_dict['1']['recall'],\n",
    "            'f1_score_macro': report_dict['macro avg']['f1-score']\n",
    "        }\n",
    "        mlflow.log_metrics(metrics)\n",
    "        \n",
    "        # Save and log model\n",
    "        filename = f'{model_name}_model.pkl'\n",
    "        pickle.dump(model, open(filename, 'wb'))\n",
    "        mlflow.log_artifact(filename, model_name)\n",
    "        \n",
    "        print(f\"{model_name} Results:\")\n",
    "        print(f\"Accuracy: {metrics['accuracy']:.4f}\")\n",
    "        print(f\"F1 Score (macro): {metrics['f1_score_macro']:.4f}\")\n",
    "\n",
    "print(\"\\nAll models have been trained and logged to MLflow\")"
   ]
  }
 ],
 "metadata": {
  "kernelspec": {
   "display_name": "Python 3",
   "language": "python",
   "name": "python3"
  },
  "language_info": {
   "codemirror_mode": {
    "name": "ipython",
    "version": 3
   },
   "file_extension": ".py",
   "mimetype": "text/x-python",
   "name": "python",
   "nbconvert_exporter": "python",
   "pygments_lexer": "ipython3",
   "version": "3.10.9"
  }
 },
 "nbformat": 4,
 "nbformat_minor": 5
}
